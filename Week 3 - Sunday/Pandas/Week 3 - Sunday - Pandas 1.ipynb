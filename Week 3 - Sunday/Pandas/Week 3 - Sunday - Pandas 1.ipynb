{
 "cells": [
  {
   "cell_type": "markdown",
   "metadata": {},
   "source": [
    "\n",
    "\n",
    "\n",
    "# Why Pandas is needed ? What it does for Machine Learning ?"
   ]
  },
  {
   "cell_type": "markdown",
   "metadata": {},
   "source": [
    "Yesterday we saw NumPy and its ``ndarray`` object, which provides efficient storage and manipulation of dense typed arrays in Python.\n",
    "\n",
    "Then why pandas ? \n",
    "\n",
    "\n",
    "1. Machine learning is not all about Model building. We need to analyze, study, Explore data. \n",
    "\n",
    "2. Most of the data in the world is tabular or can be represented in tabular format. Data comes from SQL tables which are tabular in nature. \n",
    "\n",
    "3. Numpy is great with numbers but fails for heterogeneous data. Pandas come to the rescue.\n",
    "\n",
    "4. Pandas has great tools to read data from any system. CSV, Databases, Flatfiles, cloud storage etc.\n",
    "\n",
    "5. Assigning Labels and Indexes. Rows and Columns have names in Pandas. \n",
    "\n",
    "\n",
    "#### Overall - Pandas is particularly well-suited for data handling and preparation tasks, while NumPy excels in numerical computations and array-based operations.\n",
    "\n",
    "\n",
    "Remember, Pandas is built on top of Numpy and has support for missing data, heterogeneous data which is present in real world.\n",
    "\n",
    "#### Excel sheet and SQL Tables were  a big inspiration for Pandas\n"
   ]
  },
  {
   "cell_type": "code",
   "execution_count": 4,
   "metadata": {},
   "outputs": [
    {
     "data": {
      "text/plain": [
       "'1.5.3'"
      ]
     },
     "execution_count": 4,
     "metadata": {},
     "output_type": "execute_result"
    }
   ],
   "source": [
    "import pandas\n",
    "pandas.__version__"
   ]
  },
  {
   "cell_type": "markdown",
   "metadata": {},
   "source": [
    "Just as we generally import NumPy under the alias ``np``, we will import Pandas under the alias ``pd``:"
   ]
  },
  {
   "cell_type": "code",
   "execution_count": 2,
   "metadata": {},
   "outputs": [],
   "source": [
    "import pandas as pd"
   ]
  },
  {
   "cell_type": "markdown",
   "metadata": {},
   "source": [
    "## Reminder about Built-In Documentation\n",
    "\n",
    "\n",
    "```ipython\n",
    "In [3]: pd.<TAB>\n",
    "```\n",
    "\n",
    "And to display Pandas's built-in documentation, you can use this:\n",
    "\n",
    "```ipython\n",
    "In [4]: pd?\n",
    "```\n",
    "\n",
    "http://pandas.pydata.org/."
   ]
  },
  {
   "cell_type": "code",
   "execution_count": 3,
   "metadata": {},
   "outputs": [],
   "source": [
    "pd."
   ]
  },
  {
   "cell_type": "code",
   "execution_count": null,
   "metadata": {},
   "outputs": [],
   "source": [
    "#shift tab\n",
    "\n",
    "pd"
   ]
  }
 ],
 "metadata": {
  "anaconda-cloud": {},
  "kernelspec": {
   "display_name": "Python 3 (ipykernel)",
   "language": "python",
   "name": "python3"
  },
  "language_info": {
   "codemirror_mode": {
    "name": "ipython",
    "version": 3
   },
   "file_extension": ".py",
   "mimetype": "text/x-python",
   "name": "python",
   "nbconvert_exporter": "python",
   "pygments_lexer": "ipython3",
   "version": "3.9.13"
  }
 },
 "nbformat": 4,
 "nbformat_minor": 1
}
