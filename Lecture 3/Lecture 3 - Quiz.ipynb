{
 "cells": [
  {
   "cell_type": "markdown",
   "id": "9e73be27",
   "metadata": {},
   "source": [
    "## Lecture 3 -  Quiz "
   ]
  },
  {
   "cell_type": "markdown",
   "id": "eaa0462a",
   "metadata": {},
   "source": [
    "# 1  - What will be output of below print statement ?"
   ]
  },
  {
   "cell_type": "code",
   "execution_count": null,
   "id": "b865664b",
   "metadata": {},
   "outputs": [],
   "source": [
    "print( bool(0), bool(3.14159), bool(\"False\"), bool(False), False )"
   ]
  },
  {
   "cell_type": "code",
   "execution_count": null,
   "id": "d8ae29b4",
   "metadata": {},
   "outputs": [],
   "source": []
  },
  {
   "cell_type": "code",
   "execution_count": null,
   "id": "cb3b78bb",
   "metadata": {},
   "outputs": [],
   "source": []
  },
  {
   "cell_type": "markdown",
   "id": "79ec21d4",
   "metadata": {},
   "source": [
    "# 2 - What will be output of below print statment ?"
   ]
  },
  {
   "cell_type": "code",
   "execution_count": null,
   "id": "14fae0ea",
   "metadata": {},
   "outputs": [],
   "source": [
    "print(type([]) is list)"
   ]
  },
  {
   "cell_type": "code",
   "execution_count": null,
   "id": "95bb0dfa",
   "metadata": {},
   "outputs": [],
   "source": []
  },
  {
   "cell_type": "markdown",
   "id": "3760846e",
   "metadata": {},
   "source": [
    "# 3 - What will be output of below print statment ?"
   ]
  },
  {
   "cell_type": "code",
   "execution_count": null,
   "id": "7a0fa0fa",
   "metadata": {},
   "outputs": [],
   "source": [
    "mylist = [5, 2, 1, 2, 5, 5, 1, 3 , 0, 4, 4  ]\n",
    "print(set(mylist))"
   ]
  },
  {
   "cell_type": "code",
   "execution_count": null,
   "id": "77681b1b",
   "metadata": {},
   "outputs": [],
   "source": []
  },
  {
   "cell_type": "markdown",
   "id": "c174c4f8",
   "metadata": {},
   "source": [
    "# 4 - What is the output below ?"
   ]
  },
  {
   "cell_type": "code",
   "execution_count": null,
   "id": "71ed6a01",
   "metadata": {},
   "outputs": [],
   "source": [
    "List1 = [10, 20]\n",
    "List2 = List1\n",
    "List2 += [30, 40]\n",
    "print(List1)\n",
    "print(List2)"
   ]
  },
  {
   "cell_type": "code",
   "execution_count": null,
   "id": "9054c2b1",
   "metadata": {},
   "outputs": [],
   "source": []
  },
  {
   "cell_type": "markdown",
   "id": "4d8d5814",
   "metadata": {},
   "source": [
    "# 5 - What is the output below ?"
   ]
  },
  {
   "cell_type": "code",
   "execution_count": null,
   "id": "9f0afef6",
   "metadata": {},
   "outputs": [],
   "source": []
  },
  {
   "cell_type": "code",
   "execution_count": null,
   "id": "1db06f90",
   "metadata": {},
   "outputs": [],
   "source": [
    "Mylist = [10, 20, 30, 40, 50]\n",
    "print(Mylist[-2])\n",
    "print(Mylist[-4:-1])"
   ]
  },
  {
   "cell_type": "code",
   "execution_count": null,
   "id": "c04ef667",
   "metadata": {},
   "outputs": [],
   "source": []
  },
  {
   "cell_type": "markdown",
   "id": "776bfc82",
   "metadata": {},
   "source": [
    "# 6 - What is the output below ?"
   ]
  },
  {
   "cell_type": "code",
   "execution_count": null,
   "id": "5b5c9d3c",
   "metadata": {},
   "outputs": [],
   "source": [
    "MySet = {\"A\", \"B\", \"C\"}\n",
    "MySet.add(\"D\")\n",
    "MySet.add(\"C\")\n",
    "print(MySet)\n"
   ]
  },
  {
   "cell_type": "code",
   "execution_count": null,
   "id": "c0a2c3de",
   "metadata": {},
   "outputs": [],
   "source": []
  },
  {
   "cell_type": "markdown",
   "id": "cb0bfe23",
   "metadata": {},
   "source": [
    "# 7 - What is the output below ?"
   ]
  },
  {
   "cell_type": "code",
   "execution_count": null,
   "id": "57d9755a",
   "metadata": {},
   "outputs": [],
   "source": [
    "dict1 = {\"key1\":1, \"key2\":2}\n",
    "dict2 = {\"key2\":2, \"key1\":1}\n",
    "print(dict1 == dict2)\n",
    "print(dict1 is dict2)"
   ]
  },
  {
   "cell_type": "code",
   "execution_count": null,
   "id": "d6036e62",
   "metadata": {},
   "outputs": [],
   "source": []
  },
  {
   "cell_type": "markdown",
   "id": "fd349b3d",
   "metadata": {},
   "source": [
    "# 8 - What will happen ?"
   ]
  },
  {
   "cell_type": "code",
   "execution_count": null,
   "id": "ae6182e9",
   "metadata": {},
   "outputs": [],
   "source": [
    "mytuple = (100, 200, 300, 400, 500)\n",
    "mytuple[1] = 800\n",
    "print(mytuple)"
   ]
  },
  {
   "cell_type": "code",
   "execution_count": null,
   "id": "40e3976f",
   "metadata": {},
   "outputs": [],
   "source": []
  }
 ],
 "metadata": {
  "kernelspec": {
   "display_name": "Python 3 (ipykernel)",
   "language": "python",
   "name": "python3"
  },
  "language_info": {
   "codemirror_mode": {
    "name": "ipython",
    "version": 3
   },
   "file_extension": ".py",
   "mimetype": "text/x-python",
   "name": "python",
   "nbconvert_exporter": "python",
   "pygments_lexer": "ipython3",
   "version": "3.9.13"
  }
 },
 "nbformat": 4,
 "nbformat_minor": 5
}
