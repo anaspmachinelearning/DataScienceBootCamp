{
 "cells": [
  {
   "cell_type": "markdown",
   "id": "9e73be27",
   "metadata": {},
   "source": [
    "## Lecture 4-  Quiz "
   ]
  },
  {
   "cell_type": "markdown",
   "id": "eaa0462a",
   "metadata": {},
   "source": [
    "# 1  - What will be output of below print statement ?"
   ]
  },
  {
   "cell_type": "code",
   "execution_count": null,
   "id": "b865664b",
   "metadata": {},
   "outputs": [],
   "source": [
    "def surprising_function(value):\n",
    "    thing = 0\n",
    "    for counter in range(value+1):\n",
    "        thing = thing + counter\n",
    "    return thing\n",
    "\n",
    "print(surprising_function(5))"
   ]
  },
  {
   "cell_type": "code",
   "execution_count": null,
   "id": "d8ae29b4",
   "metadata": {},
   "outputs": [],
   "source": []
  },
  {
   "cell_type": "code",
   "execution_count": null,
   "id": "cb3b78bb",
   "metadata": {},
   "outputs": [],
   "source": []
  },
  {
   "cell_type": "markdown",
   "id": "79ec21d4",
   "metadata": {},
   "source": [
    "# 2 - What will be output of below print statment ?"
   ]
  },
  {
   "cell_type": "code",
   "execution_count": null,
   "id": "14fae0ea",
   "metadata": {},
   "outputs": [],
   "source": [
    "def a(x, y):\n",
    "    x = x + 3\n",
    "    y = y + 2\n",
    "    return x+y\n",
    "\n",
    "x = 5\n",
    "y = 10\n",
    "z = a(x, y)\n",
    "\n",
    "print(z)"
   ]
  },
  {
   "cell_type": "code",
   "execution_count": null,
   "id": "95bb0dfa",
   "metadata": {},
   "outputs": [],
   "source": [
    "def a(x, y):\n",
    "    x = x + 3\n",
    "    y = y + 2\n",
    "    return x+y\n",
    "\n",
    "x = 5\n",
    "y = 10\n",
    "z = a(x, y)\n",
    "\n",
    "print(x)"
   ]
  },
  {
   "cell_type": "markdown",
   "id": "3760846e",
   "metadata": {},
   "source": [
    "# 3 - What will be output of below print statment ?"
   ]
  },
  {
   "cell_type": "code",
   "execution_count": null,
   "id": "7a0fa0fa",
   "metadata": {},
   "outputs": [],
   "source": [
    "def a(x, y = 1 ):\n",
    "    x = x + 3\n",
    "    y = y + 2\n",
    "    return x+y\n",
    "\n",
    "x = 5\n",
    "y = 10\n",
    "z = a(x)\n",
    "\n",
    "print(z)"
   ]
  },
  {
   "cell_type": "code",
   "execution_count": null,
   "id": "77681b1b",
   "metadata": {},
   "outputs": [],
   "source": []
  },
  {
   "cell_type": "markdown",
   "id": "c174c4f8",
   "metadata": {},
   "source": [
    "# 4 - What is the output below ?"
   ]
  },
  {
   "cell_type": "code",
   "execution_count": null,
   "id": "71ed6a01",
   "metadata": {},
   "outputs": [],
   "source": [
    "def a(x, y = 1 ):\n",
    "    x = x + 3\n",
    "    y = y + 2\n",
    "    return x+y\n",
    "\n",
    "x = 5\n",
    "y = 10\n",
    "z = a(y)\n",
    "\n",
    "print(z)"
   ]
  },
  {
   "cell_type": "code",
   "execution_count": null,
   "id": "9054c2b1",
   "metadata": {},
   "outputs": [],
   "source": []
  },
  {
   "cell_type": "markdown",
   "id": "4d8d5814",
   "metadata": {},
   "source": [
    "# 5 - What is the output below ?"
   ]
  },
  {
   "cell_type": "code",
   "execution_count": null,
   "id": "9f0afef6",
   "metadata": {},
   "outputs": [],
   "source": [
    "mylist = [0 if x % 2 == 0 else x % 2 for x in range(10)]"
   ]
  },
  {
   "cell_type": "code",
   "execution_count": null,
   "id": "1db06f90",
   "metadata": {},
   "outputs": [],
   "source": [
    "mylist"
   ]
  },
  {
   "cell_type": "code",
   "execution_count": null,
   "id": "c04ef667",
   "metadata": {},
   "outputs": [],
   "source": []
  },
  {
   "cell_type": "markdown",
   "id": "776bfc82",
   "metadata": {},
   "source": [
    "# 6 - What is the output below ?"
   ]
  },
  {
   "cell_type": "code",
   "execution_count": null,
   "id": "5b5c9d3c",
   "metadata": {},
   "outputs": [],
   "source": [
    "words = ['Bye', 'OK', 'Savage', 'Love', 'Calibrate', 'Height', 'Linguistic']\n",
    "\n",
    "print([word for word in words if len(word) <= 3])\n"
   ]
  },
  {
   "cell_type": "code",
   "execution_count": null,
   "id": "c0a2c3de",
   "metadata": {},
   "outputs": [],
   "source": []
  },
  {
   "cell_type": "markdown",
   "id": "cb0bfe23",
   "metadata": {},
   "source": [
    "# 7 - What is the output below ?"
   ]
  },
  {
   "cell_type": "code",
   "execution_count": null,
   "id": "57d9755a",
   "metadata": {},
   "outputs": [],
   "source": [
    "var = (i for i in range(2))\n",
    "next(var)\n",
    "print(next(var))"
   ]
  },
  {
   "cell_type": "code",
   "execution_count": null,
   "id": "d6036e62",
   "metadata": {},
   "outputs": [],
   "source": [
    "print(next(var))"
   ]
  },
  {
   "cell_type": "code",
   "execution_count": null,
   "id": "4be7ee91",
   "metadata": {},
   "outputs": [],
   "source": []
  }
 ],
 "metadata": {
  "kernelspec": {
   "display_name": "Python 3 (ipykernel)",
   "language": "python",
   "name": "python3"
  },
  "language_info": {
   "codemirror_mode": {
    "name": "ipython",
    "version": 3
   },
   "file_extension": ".py",
   "mimetype": "text/x-python",
   "name": "python",
   "nbconvert_exporter": "python",
   "pygments_lexer": "ipython3",
   "version": "3.9.13"
  }
 },
 "nbformat": 4,
 "nbformat_minor": 5
}
